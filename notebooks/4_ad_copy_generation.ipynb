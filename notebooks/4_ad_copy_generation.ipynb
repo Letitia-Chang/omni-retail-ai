{
 "cells": [
  {
   "cell_type": "markdown",
   "metadata": {},
   "source": [
    "# ✍️ Ad Copy Generation with OpenAI-style API via Hugging Face  \n",
    "*Using DeepSeek-v3 hosted on Hugging Face to generate personalized product ads*\n",
    "\n",
    "This notebook generates promotional ad copy for fashion products using a large language model (LLM) hosted on Hugging Face.  \n",
    "We call an **OpenAI-compatible chat endpoint** powered by the model `deepseek/deepseek-v3-0324` to generate short, stylish ad lines.\n",
    "\n",
    "We construct prompts using structured product information:\n",
    "- `productDisplayName`\n",
    "- `articleType`\n",
    "- `baseColour`\n",
    "- `season`\n",
    "\n",
    "These ad copies are designed for:\n",
    "- 🧵 E-commerce product pages\n",
    "- 📢 Social media captions\n",
    "- 📲 Push notifications and personalized ads\n",
    "\n",
    "The final output is a curated dataset of clean, high-quality ad lines for each product in our demo set.\n"
   ]
  },
  {
   "cell_type": "markdown",
   "metadata": {
    "id": "2pT7gbEcRixS"
   },
   "source": [
    "## 📦 Imports & Path Setup\n",
    "\n",
    "This notebook uses `requests` to call the Hugging Face-hosted LLM via an OpenAI-style API.  \n",
    "We also prepare relative file paths for loading product metadata and saving the generated ad copies."
   ]
  },
  {
   "cell_type": "code",
   "execution_count": null,
   "metadata": {},
   "outputs": [],
   "source": [
    "# Skip this cell if you're running in an environment where these are already installed.\n",
    "# !pip install -q transformers\n",
    "# !pip install -q huggingface_hub"
   ]
  },
  {
   "cell_type": "code",
   "execution_count": 17,
   "metadata": {},
   "outputs": [],
   "source": [
    "# Imports\n",
    "import os\n",
    "import re\n",
    "import sys\n",
    "import pandas as pd\n",
    "import requests\n",
    "\n",
    "# Paths Setup\n",
    "BASE_DIR = os.path.abspath(os.path.join(os.getcwd(), \"..\")) \n",
    "DATA_DIR = os.path.join(BASE_DIR, \"data\")\n",
    "\n",
    "RAW_DIR = os.path.join(DATA_DIR, \"raw\")\n",
    "PROCESSED_DIR = os.path.join(DATA_DIR, \"processed\")\n",
    "\n",
    "STYLES_CSV = os.path.join(RAW_DIR, \"styles.csv\")\n",
    "\n",
    "AD_OUTPUT_CSV = os.path.join(PROCESSED_DIR, \"sample_ad_copy_outputs.csv\")"
   ]
  },
  {
   "cell_type": "markdown",
   "metadata": {
    "id": "fh1AGaJbRpJy"
   },
   "source": [
    "## 🗂️ Load and Prepare Product Metadata\n",
    "\n",
    "We load a cleaned sample of fashion product metadata that contains all required fields for ad copy generation.\n",
    "\n",
    "Each row must have:\n",
    "- `productDisplayName` — the product’s title or name\n",
    "- `articleType` — the category of clothing (e.g., Dress, Kurta, Top)\n",
    "- `baseColour` — the primary color of the product\n",
    "- `season` — the seasonal context of the item (e.g., Summer, Winter)\n",
    "\n",
    "These fields are used to generate context-rich prompts for the language model."
   ]
  },
  {
   "cell_type": "code",
   "execution_count": 6,
   "metadata": {},
   "outputs": [
    {
     "name": "stdout",
     "output_type": "stream",
     "text": [
      "✅ Loaded 41569 valid rows with complete product metadata.\n"
     ]
    },
    {
     "data": {
      "text/html": [
       "<div>\n",
       "<style scoped>\n",
       "    .dataframe tbody tr th:only-of-type {\n",
       "        vertical-align: middle;\n",
       "    }\n",
       "\n",
       "    .dataframe tbody tr th {\n",
       "        vertical-align: top;\n",
       "    }\n",
       "\n",
       "    .dataframe thead th {\n",
       "        text-align: right;\n",
       "    }\n",
       "</style>\n",
       "<table border=\"1\" class=\"dataframe\">\n",
       "  <thead>\n",
       "    <tr style=\"text-align: right;\">\n",
       "      <th></th>\n",
       "      <th>id</th>\n",
       "      <th>gender</th>\n",
       "      <th>masterCategory</th>\n",
       "      <th>subCategory</th>\n",
       "      <th>articleType</th>\n",
       "      <th>baseColour</th>\n",
       "      <th>season</th>\n",
       "      <th>year</th>\n",
       "      <th>usage</th>\n",
       "      <th>productDisplayName</th>\n",
       "      <th>filename</th>\n",
       "    </tr>\n",
       "  </thead>\n",
       "  <tbody>\n",
       "    <tr>\n",
       "      <th>0</th>\n",
       "      <td>15970</td>\n",
       "      <td>Men</td>\n",
       "      <td>Apparel</td>\n",
       "      <td>Topwear</td>\n",
       "      <td>Shirts</td>\n",
       "      <td>Navy Blue</td>\n",
       "      <td>Fall</td>\n",
       "      <td>2011.0</td>\n",
       "      <td>Casual</td>\n",
       "      <td>Turtle Check Men Navy Blue Shirt</td>\n",
       "      <td>15970.jpg</td>\n",
       "    </tr>\n",
       "    <tr>\n",
       "      <th>1</th>\n",
       "      <td>39386</td>\n",
       "      <td>Men</td>\n",
       "      <td>Apparel</td>\n",
       "      <td>Bottomwear</td>\n",
       "      <td>Jeans</td>\n",
       "      <td>Blue</td>\n",
       "      <td>Summer</td>\n",
       "      <td>2012.0</td>\n",
       "      <td>Casual</td>\n",
       "      <td>Peter England Men Party Blue Jeans</td>\n",
       "      <td>39386.jpg</td>\n",
       "    </tr>\n",
       "    <tr>\n",
       "      <th>2</th>\n",
       "      <td>59263</td>\n",
       "      <td>Women</td>\n",
       "      <td>Accessories</td>\n",
       "      <td>Watches</td>\n",
       "      <td>Watches</td>\n",
       "      <td>Silver</td>\n",
       "      <td>Winter</td>\n",
       "      <td>2016.0</td>\n",
       "      <td>Casual</td>\n",
       "      <td>Titan Women Silver Watch</td>\n",
       "      <td>59263.jpg</td>\n",
       "    </tr>\n",
       "    <tr>\n",
       "      <th>3</th>\n",
       "      <td>21379</td>\n",
       "      <td>Men</td>\n",
       "      <td>Apparel</td>\n",
       "      <td>Bottomwear</td>\n",
       "      <td>Track Pants</td>\n",
       "      <td>Black</td>\n",
       "      <td>Fall</td>\n",
       "      <td>2011.0</td>\n",
       "      <td>Casual</td>\n",
       "      <td>Manchester United Men Solid Black Track Pants</td>\n",
       "      <td>21379.jpg</td>\n",
       "    </tr>\n",
       "    <tr>\n",
       "      <th>4</th>\n",
       "      <td>53759</td>\n",
       "      <td>Men</td>\n",
       "      <td>Apparel</td>\n",
       "      <td>Topwear</td>\n",
       "      <td>Tshirts</td>\n",
       "      <td>Grey</td>\n",
       "      <td>Summer</td>\n",
       "      <td>2012.0</td>\n",
       "      <td>Casual</td>\n",
       "      <td>Puma Men Grey T-shirt</td>\n",
       "      <td>53759.jpg</td>\n",
       "    </tr>\n",
       "  </tbody>\n",
       "</table>\n",
       "</div>"
      ],
      "text/plain": [
       "      id gender masterCategory subCategory  articleType baseColour  season  \\\n",
       "0  15970    Men        Apparel     Topwear       Shirts  Navy Blue    Fall   \n",
       "1  39386    Men        Apparel  Bottomwear        Jeans       Blue  Summer   \n",
       "2  59263  Women    Accessories     Watches      Watches     Silver  Winter   \n",
       "3  21379    Men        Apparel  Bottomwear  Track Pants      Black    Fall   \n",
       "4  53759    Men        Apparel     Topwear      Tshirts       Grey  Summer   \n",
       "\n",
       "     year   usage                             productDisplayName   filename  \n",
       "0  2011.0  Casual               Turtle Check Men Navy Blue Shirt  15970.jpg  \n",
       "1  2012.0  Casual             Peter England Men Party Blue Jeans  39386.jpg  \n",
       "2  2016.0  Casual                       Titan Women Silver Watch  59263.jpg  \n",
       "3  2011.0  Casual  Manchester United Men Solid Black Track Pants  21379.jpg  \n",
       "4  2012.0  Casual                          Puma Men Grey T-shirt  53759.jpg  "
      ]
     },
     "execution_count": 6,
     "metadata": {},
     "output_type": "execute_result"
    }
   ],
   "source": [
    "# Load data\n",
    "df = pd.read_csv(STYLES_CSV)\n",
    "\n",
    "# Drop rows missing any required prompt fields\n",
    "df = df.dropna(subset=[\"productDisplayName\", \"articleType\", \"baseColour\", \"season\"])\n",
    "\n",
    "print(f\"✅ Loaded {len(df)} valid rows with complete product metadata.\")\n",
    "df.head()"
   ]
  },
  {
   "cell_type": "markdown",
   "metadata": {},
   "source": [
    "## ✉️ Prompt Construction for Ad Copy Generation\n",
    "\n",
    "We construct a tailored prompt for each product using its:\n",
    "- `productDisplayName` — to personalize the copy\n",
    "- `articleType` — to define what kind of clothing it is\n",
    "- `baseColour` — to guide visual emphasis\n",
    "- `season` — to give seasonal context\n",
    "\n",
    "Each prompt follows a fixed template and is sent to the language model to generate a short, natural-sounding promotional ad line."
   ]
  },
  {
   "cell_type": "code",
   "execution_count": 7,
   "metadata": {},
   "outputs": [
    {
     "name": "stdout",
     "output_type": "stream",
     "text": [
      "Write a short, engaging ad line for the following product.\n",
      "Product: Turtle Check Men Navy Blue Shirt.\n",
      "Type: Shirts, Color: Navy Blue, Season: Fall.\n",
      "\n"
     ]
    }
   ],
   "source": [
    "# Define prompt template\n",
    "def build_prompt(row):\n",
    "    return (\n",
    "        f\"Write a short, engaging ad line for the following product.\\n\"\n",
    "        f\"Product: {row['productDisplayName']}.\\n\"\n",
    "        f\"Type: {row['articleType']}, Color: {row['baseColour']}, Season: {row['season']}.\\n\"\n",
    "    )\n",
    "\n",
    "# Apply template to each row\n",
    "df[\"prompt\"] = df.apply(build_prompt, axis=1)\n",
    "\n",
    "# Preview a sample prompt\n",
    "print(df[\"prompt\"].iloc[0])"
   ]
  },
  {
   "cell_type": "markdown",
   "metadata": {},
   "source": [
    "## 🤖 Setup API Call to DeepSeek-v3 Model via Hugging Face\n",
    "\n",
    "We use the `deepseek-v3-0324` model hosted by Hugging Face to generate ad copy from structured prompts.\n",
    "\n",
    "The model is accessed through an OpenAI-compatible chat endpoint (`/v3/openai/chat/completions`), and requires a valid **Hugging Face API token** for authentication.\n",
    "\n",
    ">🔐 Your API key should be stored securely (e.g., in `.env`, GitHub Secrets, or environment variables)."
   ]
  },
  {
   "cell_type": "code",
   "execution_count": 9,
   "metadata": {},
   "outputs": [],
   "source": [
    "# Set up Hugging Face API credentials\n",
    "API_URL = \"https://router.huggingface.co/novita/v3/openai/chat/completions\"\n",
    "\n",
    "headers = {\n",
    "    \"Authorization\": \"Bearer hf_\", # Replace with your token\n",
    "    \"Content-Type\": \"application/json\"\n",
    "}\n",
    "\n",
    "# Define a function to send a prompt and receive ad copy\n",
    "def generate_ad(prompt, api_url=API_URL, headers=headers):\n",
    "    payload = {\n",
    "        \"messages\": [\n",
    "            {\n",
    "                \"role\": \"user\", \n",
    "                \"content\": prompt\n",
    "            }\n",
    "        ],\n",
    "        \"model\": \"deepseek/deepseek-v3-0324\"\n",
    "    }\n",
    "    response = requests.post(api_url, headers=headers, json=payload)\n",
    "    response.raise_for_status()  # Raises error if request failed\n",
    "    return response.json()[\"choices\"][0][\"message\"][\"content\"]"
   ]
  },
  {
   "cell_type": "markdown",
   "metadata": {
    "id": "FY07Z7MVTVIQ"
   },
   "source": [
    "## 🧠 Generate Sample Ad Copy\n",
    "\n",
    "To test our setup, we randomly select a few product prompts and pass them through the `deepseek-v3` API to generate short, engaging ad lines.\n",
    "\n",
    "> These ad lines are meant to be catchy and relevant — ideal for use in e-commerce or digital advertising."
   ]
  },
  {
   "cell_type": "code",
   "execution_count": 14,
   "metadata": {
    "colab": {
     "base_uri": "https://localhost:8080/"
    },
    "executionInfo": {
     "elapsed": 20348,
     "status": "ok",
     "timestamp": 1748321452893,
     "user": {
      "displayName": "Letitia Chang",
      "userId": "11522851979421801987"
     },
     "user_tz": -480
    },
    "id": "GBO0KY_wRkKi",
    "outputId": "6ddfc7a7-2d67-47fd-f30a-eaa62d72f6c0"
   },
   "outputs": [
    {
     "name": "stdout",
     "output_type": "stream",
     "text": [
      "📢 Sample Ad Copy Results:\n",
      "\n",
      "Prompt:\n",
      "Write a short, engaging ad line for the following product.\n",
      "Product: Angry Birds Women Pink T-shirt.\n",
      "Type: Tshirts, Color: Pink, Season: Summer.\n",
      "\n",
      "Ad Copy:\n",
      "**\"Stay fierce & fun this summer! 🎀💥 Rock the Angry Birds Women's Pink T-Shirt – bold, comfy, and totally you!\"**  \n",
      "\n",
      "*(Bonus: Add emojis like 🌞 or 🐦 for extra flair!)*\n",
      "------------------------------------------------------------\n",
      "\n",
      "Prompt:\n",
      "Write a short, engaging ad line for the following product.\n",
      "Product: Jockey Essence Black Bra 2004.\n",
      "Type: Bra, Color: Black, Season: Winter.\n",
      "\n",
      "Ad Copy:\n",
      "**\"Stay effortlessly chic this winter with the Jockey Essence Black Bra 2004—comfort meets elegance in every curve.\"**  \n",
      "\n",
      "(Short, stylish, and highlights comfort + seasonal appeal!)\n",
      "------------------------------------------------------------\n",
      "\n",
      "Prompt:\n",
      "Write a short, engaging ad line for the following product.\n",
      "Product: ADIDAS Unisex New York Chronographic Digital Black Red Watch.\n",
      "Type: Watches, Color: Black, Season: Winter.\n",
      "\n",
      "Ad Copy:\n",
      "**\"Stay sharp this winter with the ADIDAS New York Chrono Watch—bold black style meets digital precision. Time never looked this cool! ⏱️🔥 #ADIDAS #WinterReady\"**  \n",
      "\n",
      "*(Short, punchy, and highlights key features—unisex appeal, digital chronograph, and winter-ready style!)*\n",
      "------------------------------------------------------------\n",
      "\n",
      "Prompt:\n",
      "Write a short, engaging ad line for the following product.\n",
      "Product: Clarks Women Balti Zing Beige Heels.\n",
      "Type: Heels, Color: Beige, Season: Summer.\n",
      "\n",
      "Ad Copy:\n",
      "**\"Step into summer with Clarks Women's Balti Zing Beige Heels – effortless elegance for every sunny adventure!\"**  \n",
      "\n",
      "*or*  \n",
      "\n",
      "**\"Light, chic, and oh-so-comfy – the Balti Zing Beige Heels by Clarks are your perfect summer staple!\"**  \n",
      "\n",
      "Let me know if you'd like a different tone! 😊👠\n",
      "------------------------------------------------------------\n",
      "\n",
      "Prompt:\n",
      "Write a short, engaging ad line for the following product.\n",
      "Product: ADIDAS Mens Graphic T-shirt.\n",
      "Type: Tshirts, Color: White, Season: Fall.\n",
      "\n",
      "Ad Copy:\n",
      "**\"Stay sharp this fall in crisp white style. ADIDAS Men's Graphic Tee—comfort meets cool. 🍂⚡\"**  \n",
      "\n",
      "*(Short, punchy, and highlights the season, color, and brand appeal!)*\n",
      "------------------------------------------------------------\n",
      "\n"
     ]
    }
   ],
   "source": [
    "# Sample 5 product prompts\n",
    "examples = df[\"prompt\"].sample(5, random_state=42).tolist()\n",
    "generated_ads = []\n",
    "\n",
    "print(\"📢 Sample Ad Copy Results:\\n\")\n",
    "\n",
    "for idx, prompt in enumerate(examples):\n",
    "    ad = generate_ad(prompt)\n",
    "    generated_ads.append(ad)\n",
    "    \n",
    "    print(f\"Prompt:\\n{prompt.strip()}\\n\")\n",
    "    print(f\"Ad Copy:\\n{ad.strip()}\\n{'-'*60}\\n\")"
   ]
  },
  {
   "cell_type": "markdown",
   "metadata": {
    "id": "nRomFAIKTXXm"
   },
   "source": [
    "## 🧽 Clean and Extract Final Ad Copy\n",
    "\n",
    "The model may return additional formatting such as:\n",
    "- Markdown bold (`**\"...\"**`)\n",
    "- Quotation marks (`\"...\"` or `'...'`)\n",
    "- Multiple sentences or headings\n",
    "\n",
    "We extract and clean the **core ad line** using a regex pattern.  \n",
    "If the expected pattern isn't found, we fall back to the full model output."
   ]
  },
  {
   "cell_type": "code",
   "execution_count": 15,
   "metadata": {},
   "outputs": [
    {
     "name": "stdout",
     "output_type": "stream",
     "text": [
      "1. Stay fierce & fun this summer! 🎀💥 Rock the Angry Birds Women's Pink T-Shirt – bold, comfy, and totally you!\n",
      "2. Stay effortlessly chic this winter with the Jockey Essence Black Bra 2004—comfort meets elegance in every curve.\n",
      "3. Stay sharp this winter with the ADIDAS New York Chrono Watch—bold black style meets digital precision. Time never looked this cool! ⏱️🔥 #ADIDAS #WinterReady\n",
      "4. Step into summer with Clarks Women's Balti Zing Beige Heels – effortless elegance for every sunny adventure!\n",
      "5. Stay sharp this fall in crisp white style. ADIDAS Men's Graphic Tee—comfort meets cool. 🍂⚡\n"
     ]
    }
   ],
   "source": [
    "cleaned_ads = []\n",
    "\n",
    "for idx, ad in enumerate(generated_ads):\n",
    "    ad = ad.strip()\n",
    "\n",
    "    # Try to extract bold-quoted ad copy: **\"...\"**\n",
    "    match = re.findall(r'\\*\\*\"?([^*\"]+)\"?\\*\\*', ad)\n",
    "\n",
    "    if match:\n",
    "        cleaned = match[0]\n",
    "    else:\n",
    "        # Remove any extra quotes or markdown syntax\n",
    "        cleaned = ad.replace('\"', '').replace(\"'\", '').strip()\n",
    "\n",
    "    cleaned_ads.append(cleaned)\n",
    "    print(f\"{idx+1}. {cleaned}\")"
   ]
  },
  {
   "cell_type": "markdown",
   "metadata": {
    "id": "GQ4wn3huTaFh"
   },
   "source": [
    "## 💾 Save Ad Copy Outputs to CSV\n",
    "\n",
    "We attach each generated ad copy to its corresponding product and save the result as a CSV file.  \n",
    "This dataset can be used in later stages such as:\n",
    "- Campaign generation\n",
    "- Dashboard display"
   ]
  },
  {
   "cell_type": "code",
   "execution_count": null,
   "metadata": {
    "id": "oMa522sdRkPw"
   },
   "outputs": [],
   "source": [
    "# Attach generated ad copy to sampled products\n",
    "sample_df = df.sample(5, random_state=42).copy()\n",
    "sample_df[\"ad_copy\"] = cleaned_ads\n",
    "\n",
    "# Save to CSV\n",
    "sample_df[[\"id\", \"productDisplayName\", \"ad_copy\"]].to_csv(AD_OUTPUT_CSV, index=False)\n",
    "print(f\"✅ Saved ad copy to → {AD_OUTPUT_CSV}\")"
   ]
  },
  {
   "cell_type": "markdown",
   "metadata": {},
   "source": [
    "## ✅ Summary\n",
    "\n",
    "- Used product metadata (type, color, season, name) to construct structured prompts\n",
    "- Generated ad copy using the `deepseek-v3` model via Hugging Face's OpenAI-style API\n",
    "- Cleaned raw model outputs to extract high-quality, usable promotional lines\n",
    "- Saved the generated ads for downstream use in OmniRetail AI’s promotion and campaign modules\n",
    "\n",
    "➡️ Next: Use these ads in campaign exports or plug them into dashboards for content testing and personalization."
   ]
  }
 ],
 "metadata": {
  "colab": {
   "authorship_tag": "ABX9TyPNJoq7wMjgykQ8zo0QoO1H",
   "provenance": []
  },
  "kernelspec": {
   "display_name": "Python 3 (ipykernel)",
   "language": "python",
   "name": "python3"
  },
  "language_info": {
   "codemirror_mode": {
    "name": "ipython",
    "version": 3
   },
   "file_extension": ".py",
   "mimetype": "text/x-python",
   "name": "python",
   "nbconvert_exporter": "python",
   "pygments_lexer": "ipython3",
   "version": "3.10.14"
  }
 },
 "nbformat": 4,
 "nbformat_minor": 4
}
